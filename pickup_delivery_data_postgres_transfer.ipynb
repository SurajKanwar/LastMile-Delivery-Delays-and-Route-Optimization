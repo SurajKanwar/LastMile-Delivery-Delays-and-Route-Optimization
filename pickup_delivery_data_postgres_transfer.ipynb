{
 "cells": [
  {
   "cell_type": "code",
   "execution_count": 1,
   "id": "3d61839f-fb3e-4177-bfdc-19d2b31aac68",
   "metadata": {},
   "outputs": [],
   "source": [
    "from pyspark.sql import SparkSession"
   ]
  },
  {
   "cell_type": "code",
   "execution_count": 2,
   "id": "2da9b193-a76e-493d-a4ec-b1ec2cf9f5f4",
   "metadata": {},
   "outputs": [],
   "source": [
    "# Specify the path to the PostgreSQL JDBC driver\n",
    "jdbc_driver_path = r\"C:\\Users\\Dusty\\Downloads\\Internship\\Last-Mile-Delivery-Delays-and-Route-Optimization\\postgresql-42.7.5.jar\"\n",
    "\n",
    "spark = SparkSession.builder.appName(\"CSV to PostgreSQL\").config(\"spark.jars\", jdbc_driver_path).getOrCreate()"
   ]
  },
  {
   "cell_type": "code",
   "execution_count": 3,
   "id": "fa7688bb-837f-47cd-a8ac-59e64b13e34a",
   "metadata": {},
   "outputs": [],
   "source": [
    "pickup_file_path = r\"C:\\Users\\Dusty\\Downloads\\Internship\\Last-Mile-Delivery-Delays-and-Route-Optimization\\data\\cleaned_pickup_data.csv\"\n",
    "delivery_file_path = r\"C:\\Users\\Dusty\\Downloads\\Internship\\Last-Mile-Delivery-Delays-and-Route-Optimization\\data\\cleaned_delivery_data.csv\"\n",
    "\n",
    "# Define PostgreSQL connection details\n",
    "jdbc_url = \"jdbc:postgresql://localhost:5432/postgres\"\n",
    "properties = {\n",
    "    \"user\": \"postgres\",\n",
    "    \"password\": \"root\",\n",
    "    \"driver\": \"org.postgresql.Driver\"\n",
    "}\n",
    "\n",
    "# Read the CSV file into a DataFrame\n",
    "df_pickup = spark.read.csv(pickup_file_path, header=True, inferSchema=True)\n",
    "df_delivery = spark.read.csv(delivery_file_path, header=True, inferSchema=True)"
   ]
  },
  {
   "cell_type": "code",
   "execution_count": 4,
   "id": "ed69c138-45e0-4ee5-974a-49d8acd27583",
   "metadata": {},
   "outputs": [
    {
     "name": "stdout",
     "output_type": "stream",
     "text": [
      "Pickup Data Saved to Postgresql successfully\n"
     ]
    }
   ],
   "source": [
    "df_pickup.write.jdbc(url=jdbc_url, table=\"pickup_data\", mode=\"overwrite\", properties=properties)\n",
    "print(\"Pickup Data Saved to Postgresql successfully\")"
   ]
  },
  {
   "cell_type": "code",
   "execution_count": 5,
   "id": "4e56a34c-81c5-4048-b1a7-ef76d2da8aff",
   "metadata": {},
   "outputs": [
    {
     "name": "stdout",
     "output_type": "stream",
     "text": [
      "Delivery Data Saved to Postgresql successfully\n"
     ]
    }
   ],
   "source": [
    "df_delivery.write.jdbc(url=jdbc_url, table=\"delivery_data\", mode=\"overwrite\", properties=properties)\n",
    "print(\"Delivery Data Saved to Postgresql successfully\")"
   ]
  },
  {
   "cell_type": "code",
   "execution_count": 6,
   "id": "19063fc8-09b5-487e-9039-5c021c4a6c03",
   "metadata": {},
   "outputs": [],
   "source": [
    "spark.stop()"
   ]
  }
 ],
 "metadata": {
  "kernelspec": {
   "display_name": "Python 3 (ipykernel)",
   "language": "python",
   "name": "python3"
  },
  "language_info": {
   "codemirror_mode": {
    "name": "ipython",
    "version": 3
   },
   "file_extension": ".py",
   "mimetype": "text/x-python",
   "name": "python",
   "nbconvert_exporter": "python",
   "pygments_lexer": "ipython3",
   "version": "3.13.1"
  }
 },
 "nbformat": 4,
 "nbformat_minor": 5
}
