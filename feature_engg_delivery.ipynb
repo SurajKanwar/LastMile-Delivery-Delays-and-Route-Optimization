{
 "cells": [
  {
   "cell_type": "code",
   "execution_count": 1,
   "id": "a85dcb8a-8425-4ecd-96cb-0b986f97180c",
   "metadata": {},
   "outputs": [],
   "source": [
    "import os\n",
    "from pyspark.sql import SparkSession\n",
    "from pyspark.sql import functions as F\n",
    "from pyspark.sql.functions import *\n",
    "from pyspark.ml.feature import VectorAssembler, StandardScaler, PCA, OneHotEncoder, StringIndexer\n",
    "import pandas as pd\n",
    "import numpy as np\n",
    "from pyspark.ml.clustering import KMeans\n",
    "import matplotlib.pyplot as plt\n",
    "from pyspark.ml import Pipeline\n",
    "from pyspark.ml.evaluation import ClusteringEvaluator\n",
    "from pyspark.sql.types import ArrayType, DoubleType\n",
    "from sklearn.preprocessing import LabelEncoder\n",
    "from sklearn.feature_selection import mutual_info_regression"
   ]
  },
  {
   "cell_type": "markdown",
   "id": "2fac771f-701d-4282-999d-7abc2aba428a",
   "metadata": {
    "jp-MarkdownHeadingCollapsed": true
   },
   "source": [
    "### Read the delivery data"
   ]
  },
  {
   "cell_type": "code",
   "execution_count": 2,
   "id": "1d54c23c-85e3-4f04-9fa3-9916c15690aa",
   "metadata": {},
   "outputs": [],
   "source": [
    "postgresql_jdbc_jar = r\"C:/Program Files/PostgreSQL/17/postgresql-42.7.4.jar\"\n",
    "spark = SparkSession.builder.appName('FeatureEnginering')\\\n",
    "                            .config(\"spark.jars\", postgresql_jdbc_jar) \\\n",
    "                            .config(\"spark.driver.extraClassPath\", postgresql_jdbc_jar) \\\n",
    "                            .config(\"spark.driver.memory\", \"12g\")\\\n",
    "                            .config(\"spark.executor.memory\", \"12g\")\\\n",
    "                            .config(\"spark.executor.cores\", \"4\")\\\n",
    "                            .getOrCreate()\n",
    "                            \n",
    "# delivery_file = r\"C:\\Users\\Dusty\\Downloads\\Internship\\Last-Mile-Delivery-Delays-and-Route-Optimization\\data\\cleaned_delivery_data.parquet\"\n",
    "# df_delivery = spark.read.parquet(delivery_file,inferSchema=True)"
   ]
  },
  {
   "cell_type": "code",
   "execution_count": 3,
   "id": "e1ec3d7b-3cf1-4708-8289-bb456cdeb1f2",
   "metadata": {},
   "outputs": [
    {
     "name": "stdout",
     "output_type": "stream",
     "text": [
      "Number of rows in the DataFrame: 2653061\n"
     ]
    }
   ],
   "source": [
    "# Database connection parameters\n",
    "url = \"jdbc:postgresql://localhost:5432/postgres\"\n",
    "properties = {\n",
    "    \"user\": \"postgres\",\n",
    "    \"password\": \"root\",\n",
    "    \"driver\": \"org.postgresql.Driver\"\n",
    "}\n",
    "\n",
    "# Query to filter cities Hangzhou and Shanghai\n",
    "query = \"(SELECT * FROM delivery_data WHERE city IN ('Chongqing', 'Shanghai', 'Yantai', 'Jilin')) AS filtered_data\"\n",
    "\n",
    "# Load the data into a PySpark DataFrame\n",
    "df_delivery = spark.read.jdbc(url=url, table=query, properties=properties)\n",
    "\n",
    "# Show the first few rows\n",
    "row_count = df_delivery.count()\n",
    "print(f\"Number of rows in the DataFrame: {row_count}\")"
   ]
  },
  {
   "cell_type": "markdown",
   "id": "16a76a7a-8d0b-4ebc-96f8-551ffcd9496b",
   "metadata": {
    "jp-MarkdownHeadingCollapsed": true
   },
   "source": [
    "### Time-Based Features"
   ]
  },
  {
   "cell_type": "code",
   "execution_count": 4,
   "id": "3a968e69-9311-4454-9c2b-7df57f140da8",
   "metadata": {},
   "outputs": [],
   "source": [
    "# Extracting hour, day of the week, and month from the `accept_time` column\n",
    "df_delivery = df_delivery.withColumn(\"hour_of_day\", F.hour(df_delivery[\"accept_time\"])) \\\n",
    "       .withColumn(\"day_of_week\", F.dayofweek(df_delivery[\"accept_time\"])) \\\n",
    "       .withColumn(\"month\", F.month(df_delivery[\"accept_time\"]))\n",
    "\n",
    "# Calculate time taken for delivery (in minutes) which is already calculated in delivery_eta_minutes\n",
    "\n",
    "# Calculate the time difference between expected and actual delivery time in minutes\n",
    "# expected_delivery_time = time_window_start\n",
    "# actual delivery time = delivery_time\n",
    "# A positive value means the delivery happened after the expected time (late delivery), \n",
    "# while a negative value means it happened earlier than expected (early delivery).\n",
    "df_delivery = df_delivery.withColumn(\"delivery_time_delay\",\n",
    "                  (df_delivery[\"delivery_time\"].cast(\"long\") - df_delivery[\"accept_time\"].cast(\"long\")) / 60)"
   ]
  },
  {
   "cell_type": "code",
   "execution_count": 5,
   "id": "ab4f9ce3-8a60-4769-abe0-9deff2ca7b06",
   "metadata": {},
   "outputs": [
    {
     "name": "stdout",
     "output_type": "stream",
     "text": [
      "+-----------+-----------+-----+-------------------+\n",
      "|hour_of_day|day_of_week|month|delivery_time_delay|\n",
      "+-----------+-----------+-----+-------------------+\n",
      "|         18|          4|    6|              124.0|\n",
      "|         18|          4|    6|              113.0|\n",
      "|         18|          4|    6|               83.0|\n",
      "|         18|          4|    6|              107.0|\n",
      "|         18|          4|    6|              203.0|\n",
      "+-----------+-----------+-----+-------------------+\n",
      "only showing top 5 rows\n",
      "\n"
     ]
    }
   ],
   "source": [
    "df_delivery.select(\"hour_of_day\", \"day_of_week\", \"month\", \"delivery_time_delay\").show(5)"
   ]
  },
  {
   "cell_type": "code",
   "execution_count": 6,
   "id": "0852da0c-fb31-498d-8697-b075d8c9b614",
   "metadata": {},
   "outputs": [
    {
     "name": "stdout",
     "output_type": "stream",
     "text": [
      "+--------+---------+-------------------+\n",
      "|order_id|     city|delivery_time_delay|\n",
      "+--------+---------+-------------------+\n",
      "| 3212380|Chongqing|          -418858.0|\n",
      "| 3739029|Chongqing|          -421357.0|\n",
      "| 3956975|Chongqing|          -397678.0|\n",
      "+--------+---------+-------------------+\n",
      "\n"
     ]
    }
   ],
   "source": [
    "# Filter rows where delivery_time_difference is negative\n",
    "df_negative_deliverys = df_delivery.filter(df_delivery[\"delivery_time_delay\"] < 0)\n",
    "df_negative_deliverys.select(\"order_id\",\"city\", \"delivery_time_delay\").show(5)"
   ]
  },
  {
   "cell_type": "markdown",
   "id": "666d56ef-ba2b-4bf8-936a-ba232c282b70",
   "metadata": {
    "jp-MarkdownHeadingCollapsed": true
   },
   "source": [
    "### Geospatial Features"
   ]
  },
  {
   "cell_type": "markdown",
   "id": "42fc70ee-ba7c-4636-9ea7-0708d64225c5",
   "metadata": {
    "jp-MarkdownHeadingCollapsed": true
   },
   "source": [
    "#### Calculate the distance between delivery and delivery locations using Haversine Formula."
   ]
  },
  {
   "cell_type": "code",
   "execution_count": 7,
   "id": "607794e8-30b6-48b0-9e9d-9fc5764e425b",
   "metadata": {},
   "outputs": [],
   "source": [
    "# Define the Haversine function to calculate distance between two points on the Earth\n",
    "def haversine(lat1, lon1, lat2, lon2):\n",
    "    R = 6371  # Radius of the Earth in kilometers\n",
    "    \n",
    "    dlat = radians(lat2 - lat1)  # Difference in latitudes (radians)\n",
    "    dlon = radians(lon2 - lon1)  # Difference in longitudes (radians)\n",
    "    \n",
    "    # Apply Haversine formula to calculate the \"a\" value\n",
    "    a = sin(dlat / 2)**2 + cos(radians(lat1)) * cos(radians(lat2)) * sin(dlon / 2)**2\n",
    "    # calculate the central angle between two points\n",
    "    c = 2 * atan2(sqrt(a), sqrt(1 - a))\n",
    "    \n",
    "    # Compute the distance in KM using the radius of Earth (R) and the central angle (c)\n",
    "    distance = R * c \n",
    "    return distance\n",
    "\n",
    "# Apply the Haversine function to the DataFrame to calculate the distance in KM\n",
    "df_delivery = df_delivery.withColumn(\"delivery_distance_km\", \n",
    "                                 haversine(df_delivery[\"delivery_gps_lat\"], df_delivery[\"delivery_gps_lng\"],\n",
    "                                           df_delivery[\"accept_gps_lat\"], df_delivery[\"accept_gps_lng\"]))\n",
    "# Round the 'delivery_distance_km' column to 2 decimal places\n",
    "df_delivery = df_delivery.withColumn(\"delivery_distance_km\", round(df_delivery[\"delivery_distance_km\"], 2))"
   ]
  },
  {
   "cell_type": "code",
   "execution_count": 8,
   "id": "ace008e6-0625-470b-ae64-fe13911ce47c",
   "metadata": {},
   "outputs": [
    {
     "name": "stdout",
     "output_type": "stream",
     "text": [
      "+--------+----------------+----------------+--------------+--------------+--------------------+\n",
      "|order_id|delivery_gps_lat|delivery_gps_lng|accept_gps_lat|accept_gps_lng|delivery_distance_km|\n",
      "+--------+----------------+----------------+--------------+--------------+--------------------+\n",
      "| 2276923|        31.26975|       121.68544|      31.26371|     121.67363|                1.31|\n",
      "| 1122939|        31.26982|       121.68659|      31.26382|     121.67371|                1.39|\n",
      "| 4105928|        31.27092|       121.68459|      31.26388|     121.67365|                 1.3|\n",
      "| 2328097|        31.26993|        121.6886|      31.26377|     121.67371|                1.57|\n",
      "|  599171|        31.25661|       121.70587|      31.26373|     121.67375|                3.15|\n",
      "| 1579494|        31.00484|       121.26835|      31.00086|     121.28744|                1.87|\n",
      "| 1291123|         31.2899|       121.42525|       31.2915|     121.42332|                0.26|\n",
      "| 3563974|        31.19635|       121.62767|      31.21595|     121.64048|                 2.5|\n",
      "|  290278|        31.19651|       121.62754|      31.21584|     121.64041|                2.47|\n",
      "| 3701861|        31.02087|        121.2747|      31.00082|     121.28745|                2.54|\n",
      "+--------+----------------+----------------+--------------+--------------+--------------------+\n",
      "only showing top 10 rows\n",
      "\n"
     ]
    }
   ],
   "source": [
    "df_delivery.select(\"order_id\",\"delivery_gps_lat\",\"delivery_gps_lng\",\"accept_gps_lat\",\"accept_gps_lng\",\"delivery_distance_km\").show(10)"
   ]
  },
  {
   "cell_type": "markdown",
   "id": "477a8c01-c69b-415e-bae5-9f20679d8174",
   "metadata": {
    "jp-MarkdownHeadingCollapsed": true
   },
   "source": [
    "#### Cluster regions using K-Means or DBSCAN for better route mapping."
   ]
  },
  {
   "cell_type": "code",
   "execution_count": 9,
   "id": "0132ce11-71d6-4efd-b5a0-9a18a92948ce",
   "metadata": {},
   "outputs": [],
   "source": [
    "# observing above regions and number of orders they have we can see here is a large variation in the number of rows (packages) across regions, \n",
    "# DBSCAN would be a more appropriate clustering algorithm for this scenario as It can handle regions where some areas are densely packed with \n",
    "# packages (e.g., urban centers) while others have fewer packages (e.g., rural areas).\n",
    "# Also it doesn't require the number of clusters to be predefined and can naturally identify clusters of different shapes and sizes."
   ]
  },
  {
   "cell_type": "code",
   "execution_count": 10,
   "id": "e388d01f-fa2a-4d9a-9f2b-f4bb2d8764bf",
   "metadata": {},
   "outputs": [],
   "source": [
    "# Step 1: Select the relevant geographic columns (Longitude and Latitude)\n",
    "feature_columns = [\"delivery_gps_lng\", \"delivery_gps_lat\"]\n",
    "\n",
    "# Step 2: Vectorize the geographic features into a single vector column 'features'\n",
    "vector_assembler = VectorAssembler(inputCols=feature_columns, outputCol=\"features\")\n",
    "df_vectorized = vector_assembler.transform(df_delivery)\n",
    "\n",
    "# Step 4: Apply KMeans with a specified number of clusters (let's say 5)\n",
    "kmeans = KMeans(k=25, seed=1, featuresCol=\"features\", predictionCol=\"cluster\")\n",
    "model = kmeans.fit(df_vectorized)\n",
    "\n",
    "# Step 5: Make predictions (assign clusters to the data)\n",
    "predictions = model.transform(df_vectorized)"
   ]
  },
  {
   "cell_type": "code",
   "execution_count": 11,
   "id": "eaa2a971-743d-47fa-b4c9-58480a03d313",
   "metadata": {},
   "outputs": [
    {
     "name": "stdout",
     "output_type": "stream",
     "text": [
      "+--------+--------+-------+\n",
      "|order_id|    city|cluster|\n",
      "+--------+--------+-------+\n",
      "| 2276923|Shanghai|     18|\n",
      "| 1122939|Shanghai|     18|\n",
      "| 4105928|Shanghai|     18|\n",
      "| 2328097|Shanghai|     18|\n",
      "|  599171|Shanghai|     18|\n",
      "| 1579494|Shanghai|     13|\n",
      "| 1291123|Shanghai|     11|\n",
      "| 3563974|Shanghai|     18|\n",
      "|  290278|Shanghai|     18|\n",
      "| 3701861|Shanghai|     13|\n",
      "| 2345163|Shanghai|     18|\n",
      "|  814767|Shanghai|     11|\n",
      "| 2031720|Shanghai|     12|\n",
      "| 2645003|Shanghai|     18|\n",
      "| 4305322|Shanghai|     12|\n",
      "| 3886147|Shanghai|     18|\n",
      "| 4126477|Shanghai|      0|\n",
      "|  729432|Shanghai|     18|\n",
      "| 2734734|Shanghai|      0|\n",
      "|   26720|Shanghai|      0|\n",
      "+--------+--------+-------+\n",
      "only showing top 20 rows\n",
      "\n"
     ]
    }
   ],
   "source": [
    "# Step 7: Show some of the prediction results (assigned cluster labels)\n",
    "predictions.select(\"order_id\", \"city\", \"cluster\").show()"
   ]
  },
  {
   "cell_type": "code",
   "execution_count": 12,
   "id": "f006f631-689c-48fc-81e6-60b3e1b8c451",
   "metadata": {},
   "outputs": [],
   "source": [
    "predictions = predictions.drop('features')"
   ]
  },
  {
   "cell_type": "markdown",
   "id": "309d4e72-fd8e-4809-883e-28b7de29900f",
   "metadata": {
    "jp-MarkdownHeadingCollapsed": true
   },
   "source": [
    "### Courier & Package Features"
   ]
  },
  {
   "cell_type": "markdown",
   "id": "2ba6729b-8dc0-458a-9ee6-d7195d89b4f6",
   "metadata": {},
   "source": [
    "#### Compute the average delivery time per courier"
   ]
  },
  {
   "cell_type": "code",
   "execution_count": 13,
   "id": "d3966950-7c05-4976-9272-a09537c9892c",
   "metadata": {},
   "outputs": [
    {
     "name": "stdout",
     "output_type": "stream",
     "text": [
      "+--------+---------+--------+----------+------+--------+-------------------+-------------------+---+---------+--------+----------------+----------------+--------------+--------------+--------------------+-----------+-----------+-----+-------------------+--------------------+-------+\n",
      "|order_id|region_id|    city|courier_id|aoi_id|aoi_type|        accept_time|      delivery_time| ds|      lng|     lat|delivery_gps_lng|delivery_gps_lat|accept_gps_lng|accept_gps_lat|delivery_eta_minutes|hour_of_day|day_of_week|month|delivery_time_delay|delivery_distance_km|cluster|\n",
      "+--------+---------+--------+----------+------+--------+-------------------+-------------------+---+---------+--------+----------------+----------------+--------------+--------------+--------------------+-----------+-----------+-----+-------------------+--------------------+-------+\n",
      "| 2276923|       71|Shanghai|      2812| 48945|       1|2025-06-11 18:03:00|2025-06-11 20:07:00|611| 121.6854|31.26977|       121.68544|        31.26975|     121.67363|      31.26371|               124.0|         18|          4|    6|              124.0|                1.31|     18|\n",
      "| 1122939|       71|Shanghai|      2812| 48945|       1|2025-06-11 18:03:00|2025-06-11 19:56:00|611|121.68663|31.26929|       121.68659|        31.26982|     121.67371|      31.26382|               113.0|         18|          4|    6|              113.0|                1.39|     18|\n",
      "| 4105928|       71|Shanghai|      2812| 48945|       1|2025-06-11 18:03:00|2025-06-11 19:26:00|611|121.68453|31.27049|       121.68459|        31.27092|     121.67365|      31.26388|                83.0|         18|          4|    6|               83.0|                 1.3|     18|\n",
      "| 2328097|       71|Shanghai|      2812| 48945|       1|2025-06-11 18:03:00|2025-06-11 19:50:00|611|121.68851|31.26953|        121.6886|        31.26993|     121.67371|      31.26377|               107.0|         18|          4|    6|              107.0|                1.57|     18|\n",
      "|  599171|       71|Shanghai|      2812|   704|       1|2025-06-11 18:03:00|2025-06-11 21:26:00|611|121.67904|31.26594|       121.70587|        31.25661|     121.67375|      31.26373|               203.0|         18|          4|    6|              203.0|                3.15|     18|\n",
      "+--------+---------+--------+----------+------+--------+-------------------+-------------------+---+---------+--------+----------------+----------------+--------------+--------------+--------------------+-----------+-----------+-----+-------------------+--------------------+-------+\n",
      "only showing top 5 rows\n",
      "\n"
     ]
    }
   ],
   "source": [
    "# Group by courier_id and calculate the average delivery time delay (in minutes)\n",
    "average_delivery_time_per_courier = predictions.groupBy(\"courier_id\").agg(\n",
    "    F.avg(\"delivery_time_delay\").alias(\"avg_delivery_time_minutes\")\n",
    ")\n",
    "\n",
    "# Show the result\n",
    "predictions.show(5)\n",
    "predictions = predictions.join(\n",
    "    average_delivery_time_per_courier, on=\"courier_id\", how=\"left\")"
   ]
  },
  {
   "cell_type": "markdown",
   "id": "133bbaad-a327-42bc-8baf-d7bc7b3ae216",
   "metadata": {
    "jp-MarkdownHeadingCollapsed": true
   },
   "source": [
    "#### Extract package delivery patterns (e.g., peak hours, busiest locations)."
   ]
  },
  {
   "cell_type": "markdown",
   "id": "60152b9b-db29-4ed8-b944-e9e2f3910ce2",
   "metadata": {
    "jp-MarkdownHeadingCollapsed": true
   },
   "source": [
    "#### Peak hours"
   ]
  },
  {
   "cell_type": "code",
   "execution_count": 14,
   "id": "34713424-c095-4534-a19b-30622a39de35",
   "metadata": {},
   "outputs": [
    {
     "name": "stdout",
     "output_type": "stream",
     "text": [
      "+--------+-----------+--------------------+\n",
      "|order_id|hour_of_day|delivery_order_count|\n",
      "+--------+-----------+--------------------+\n",
      "| 2276923|         18|               73495|\n",
      "| 1122939|         18|               73495|\n",
      "| 4105928|         18|               73495|\n",
      "| 2328097|         18|               73495|\n",
      "|  599171|         18|               73495|\n",
      "+--------+-----------+--------------------+\n",
      "only showing top 5 rows\n",
      "\n"
     ]
    }
   ],
   "source": [
    "# Step 1: Group by hour_of_day and count the number of deliverys (orders)\n",
    "delivery_by_hour = predictions.groupBy(\"hour_of_day\").agg(\n",
    "    F.count(\"order_id\").alias(\"delivery_order_count\")\n",
    ")\n",
    "\n",
    "# Step 2: Sort by the delivery count in descending order to find the peak hours\n",
    "delivery_by_hour_sorted = delivery_by_hour.orderBy(F.col(\"delivery_order_count\").desc())\n",
    "\n",
    "# Step 3: Join the delivery count by hour to the predictions DataFrame based on hour_of_day\n",
    "predictions = predictions.join(\n",
    "    delivery_by_hour_sorted, on=\"hour_of_day\", how=\"left\"\n",
    ")\n",
    "\n",
    "# Show the result: predictions with delivery count by hour\n",
    "predictions.select(\"order_id\", \"hour_of_day\", \"delivery_order_count\").show(5)"
   ]
  },
  {
   "cell_type": "markdown",
   "id": "ef5c9eba-b762-4719-861d-0652e45cb106",
   "metadata": {
    "jp-MarkdownHeadingCollapsed": true
   },
   "source": [
    "#### Busiest locations"
   ]
  },
  {
   "cell_type": "code",
   "execution_count": 15,
   "id": "b371d107-5745-4b58-83d2-fa42ac887a2c",
   "metadata": {},
   "outputs": [
    {
     "name": "stdout",
     "output_type": "stream",
     "text": [
      "+---------+----------------+\n",
      "|     city|city_order_count|\n",
      "+---------+----------------+\n",
      "| Shanghai|         1483864|\n",
      "|Chongqing|          931351|\n",
      "|   Yantai|          206431|\n",
      "|    Jilin|           31415|\n",
      "+---------+----------------+\n",
      "\n"
     ]
    }
   ],
   "source": [
    "df_busiest_locations = predictions.groupBy(\"city\") \\\n",
    "    .agg(F.count(\"order_id\").alias(\"city_order_count\")) \\\n",
    "    .orderBy(F.desc(\"city_order_count\"))\n",
    "df_busiest_locations.show(5)"
   ]
  },
  {
   "cell_type": "code",
   "execution_count": 16,
   "id": "a99116b4-4f21-4245-b48d-ae2a09890dd5",
   "metadata": {},
   "outputs": [],
   "source": [
    "# Step 3: Join the delivery count by hour to the predictions DataFrame based on hour_of_day\n",
    "predictions = predictions.join(\n",
    "    df_busiest_locations, on=\"city\", how=\"left\"\n",
    ")"
   ]
  },
  {
   "cell_type": "code",
   "execution_count": 17,
   "id": "21f2c79a-7b84-4d0c-b066-0c4b8ceaedbb",
   "metadata": {},
   "outputs": [
    {
     "name": "stdout",
     "output_type": "stream",
     "text": [
      "+--------+--------+----------------+\n",
      "|order_id|    city|city_order_count|\n",
      "+--------+--------+----------------+\n",
      "| 1262776|Shanghai|         1483864|\n",
      "| 3208077|Shanghai|         1483864|\n",
      "| 2393578|Shanghai|         1483864|\n",
      "| 3821309|Shanghai|         1483864|\n",
      "| 2548119|Shanghai|         1483864|\n",
      "+--------+--------+----------------+\n",
      "only showing top 5 rows\n",
      "\n"
     ]
    }
   ],
   "source": [
    "predictions.select(\"order_id\", \"city\", \"city_order_count\").show(5)"
   ]
  },
  {
   "cell_type": "markdown",
   "id": "437a0a5f-0bbd-42e4-888e-9ae88156e72c",
   "metadata": {
    "jp-MarkdownHeadingCollapsed": true
   },
   "source": [
    "### Anomaly Detection Features"
   ]
  },
  {
   "cell_type": "markdown",
   "id": "91425ade-4689-4ee9-8f0f-43eaf1138c7c",
   "metadata": {
    "jp-MarkdownHeadingCollapsed": true
   },
   "source": [
    "#### Identify delays based on time threshold deviations"
   ]
  },
  {
   "cell_type": "code",
   "execution_count": 18,
   "id": "814cf334-7b60-48dd-8bc2-8e93014761d6",
   "metadata": {},
   "outputs": [
    {
     "name": "stdout",
     "output_type": "stream",
     "text": [
      "+--------+---------+-------------------+-------------------+-------------------+----------+\n",
      "|order_id|     city|delivery_time_delay|      delivery_time|        accept_time|is_delayed|\n",
      "+--------+---------+-------------------+-------------------+-------------------+----------+\n",
      "|  600887|Chongqing|              200.0|2025-07-22 12:07:00|2025-07-22 08:47:00|   On Time|\n",
      "| 4129878| Shanghai|              212.0|2025-07-22 12:19:00|2025-07-22 08:47:00|   On Time|\n",
      "| 1413255| Shanghai|              128.0|2025-07-22 10:55:00|2025-07-22 08:47:00|   On Time|\n",
      "| 2117651| Shanghai|              171.0|2025-07-22 11:38:00|2025-07-22 08:47:00|   On Time|\n",
      "| 4470226|Chongqing|               93.0|2025-07-22 10:20:00|2025-07-22 08:47:00|   On Time|\n",
      "|  741493| Shanghai|              683.0|2025-07-22 20:10:00|2025-07-22 08:47:00|   Delayed|\n",
      "| 4095657| Shanghai|                0.0|2025-10-20 10:56:00|2025-10-20 10:56:00|   On Time|\n",
      "| 3959622| Shanghai|              160.0|2025-10-20 13:35:00|2025-10-20 10:55:00|   On Time|\n",
      "| 2212906| Shanghai|               68.0|2025-10-20 12:03:00|2025-10-20 10:55:00|   On Time|\n",
      "| 4109786| Shanghai|               40.0|2025-10-20 11:35:00|2025-10-20 10:55:00|   On Time|\n",
      "| 4240592|Chongqing|                7.0|2025-10-20 11:02:00|2025-10-20 10:55:00|   On Time|\n",
      "| 3733289|Chongqing|              837.0|2025-07-02 20:50:00|2025-07-02 06:53:00|   Delayed|\n",
      "|  673724| Shanghai|              146.0|2025-07-22 11:13:00|2025-07-22 08:47:00|   On Time|\n",
      "| 2463941| Shanghai|              103.0|2025-10-20 12:38:00|2025-10-20 10:55:00|   On Time|\n",
      "| 2383340|Chongqing|              971.0|2025-07-02 22:45:00|2025-07-02 06:34:00|   Delayed|\n",
      "| 1030369| Shanghai|              311.0|2025-07-22 13:58:00|2025-07-22 08:47:00|   On Time|\n",
      "| 1181507| Shanghai|               47.0|2025-10-20 11:42:00|2025-10-20 10:55:00|   On Time|\n",
      "| 4457791|Chongqing|              267.0|2025-07-02 10:59:00|2025-07-02 06:32:00|   On Time|\n",
      "| 2279136| Shanghai|              140.0|2025-07-22 11:07:00|2025-07-22 08:47:00|   On Time|\n",
      "| 3670351|Chongqing|              423.0|2025-06-11 15:36:00|2025-06-11 08:33:00|   Delayed|\n",
      "+--------+---------+-------------------+-------------------+-------------------+----------+\n",
      "only showing top 20 rows\n",
      "\n"
     ]
    }
   ],
   "source": [
    "# Step 1: Define the threshold for delay\n",
    "time_threshold = 360  # Set the threshold in minutes\n",
    "\n",
    "# Step 2: Identify delays based on the delivery time delay\n",
    "# We create a new column `is_delayed` that indicates if the delay is above the threshold\n",
    "predictions = predictions.withColumn(\n",
    "    \"is_delayed\", \n",
    "    F.when(F.col(\"delivery_time_delay\") > time_threshold, \"Delayed\").otherwise(\"On Time\")\n",
    ")\n",
    "\n",
    "# Show the resulting DataFrame with the delay identification\n",
    "predictions.select(\n",
    "    \"order_id\", \n",
    "    \"city\", \n",
    "    \"delivery_time_delay\", \n",
    "    \"delivery_time\", \n",
    "    \"accept_time\", \n",
    "    \"is_delayed\"\n",
    ").show()"
   ]
  },
  {
   "cell_type": "markdown",
   "id": "1f339327-6698-4fa9-882f-c35fdbf3e298",
   "metadata": {
    "jp-MarkdownHeadingCollapsed": true
   },
   "source": [
    "#### Flag inconsistent geospatial entries (e.g., unrealistic speed between locations)."
   ]
  },
  {
   "cell_type": "code",
   "execution_count": 19,
   "id": "40a6e3c7-516e-4093-9605-5a1f0173cf1b",
   "metadata": {},
   "outputs": [
    {
     "name": "stdout",
     "output_type": "stream",
     "text": [
      "+--------+---------+--------------------+-------------------+---------+---------------+\n",
      "|order_id|     city|delivery_distance_km|delivery_time_delay|speed_kmh|   speed_status|\n",
      "+--------+---------+--------------------+-------------------+---------+---------------+\n",
      "|  600887|Chongqing|                3.55|              200.0|        1|Realistic Speed|\n",
      "| 4129878| Shanghai|                3.83|              212.0|        1|Realistic Speed|\n",
      "| 1413255| Shanghai|                3.54|              128.0|        1|Realistic Speed|\n",
      "| 2117651| Shanghai|                1.43|              171.0|        0|Realistic Speed|\n",
      "| 4470226|Chongqing|                3.91|               93.0|        2|Realistic Speed|\n",
      "|  741493| Shanghai|                4.44|              683.0|        0|Realistic Speed|\n",
      "| 4095657| Shanghai|                1.15|                0.0|        0|Realistic Speed|\n",
      "| 3959622| Shanghai|                1.81|              160.0|        0|Realistic Speed|\n",
      "| 2212906| Shanghai|                0.89|               68.0|        0|Realistic Speed|\n",
      "| 4109786| Shanghai|                1.38|               40.0|        2|Realistic Speed|\n",
      "| 4240592|Chongqing|                1.48|                7.0|       12|Realistic Speed|\n",
      "| 3733289|Chongqing|                0.75|              837.0|        0|Realistic Speed|\n",
      "|  673724| Shanghai|                3.86|              146.0|        1|Realistic Speed|\n",
      "| 2463941| Shanghai|                3.94|              103.0|        2|Realistic Speed|\n",
      "| 2383340|Chongqing|                3.64|              971.0|        0|Realistic Speed|\n",
      "| 1030369| Shanghai|                9.24|              311.0|        1|Realistic Speed|\n",
      "| 1181507| Shanghai|                 1.4|               47.0|        1|Realistic Speed|\n",
      "| 4457791|Chongqing|                3.77|              267.0|        0|Realistic Speed|\n",
      "| 2279136| Shanghai|                 0.9|              140.0|        0|Realistic Speed|\n",
      "| 3670351|Chongqing|                3.72|              423.0|        0|Realistic Speed|\n",
      "+--------+---------+--------------------+-------------------+---------+---------------+\n",
      "only showing top 20 rows\n",
      "\n"
     ]
    }
   ],
   "source": [
    "# Step 1: Convert delivery_time_delay from minutes to hours\n",
    "predictions = predictions.withColumn(\n",
    "    \"time_diff_hours\", \n",
    "    F.col(\"delivery_time_delay\") / 60  # Convert minutes to hours\n",
    ")\n",
    "\n",
    "# Step 2: Calculate the speed in km/h using the existing delivery_distance_km column\n",
    "predictions = predictions.withColumn(\n",
    "    \"speed_kmh\", \n",
    "    F.when(F.col(\"time_diff_hours\") > 0, F.floor(F.col(\"delivery_distance_km\") / F.col(\"time_diff_hours\"))).otherwise(0)\n",
    ")\n",
    "\n",
    "# Step 3: Flag entries with unrealistic speed\n",
    "speed_threshold = 100  # Define a reasonable speed threshold (in km/h)\n",
    "predictions = predictions.withColumn(\n",
    "    \"speed_status\", \n",
    "    F.when(F.col(\"speed_kmh\") > speed_threshold, \"Unrealistic Speed\").otherwise(\"Realistic Speed\")\n",
    ")\n",
    "\n",
    "predictions = predictions.drop(\"time_diff_hours\")\n",
    "\n",
    "# Show the resulting DataFrame with the speed status column\n",
    "predictions.select(\n",
    "    \"order_id\", \n",
    "    \"city\", \n",
    "    \"delivery_distance_km\", \n",
    "    \"delivery_time_delay\",  # Using existing column for time delay in minutes\n",
    "    \"speed_kmh\", \n",
    "    \"speed_status\"\n",
    ").show()"
   ]
  },
  {
   "cell_type": "markdown",
   "id": "ffb4d09e-8809-4271-a12d-dc00a41d2175",
   "metadata": {},
   "source": [
    "### Dimensionality Reduction & Feature Selection"
   ]
  },
  {
   "cell_type": "markdown",
   "id": "6c568c42-16a0-466f-89d4-86033c3b6546",
   "metadata": {},
   "source": [
    "### Save Data"
   ]
  },
  {
   "cell_type": "code",
   "execution_count": 21,
   "id": "6a261bd7-19f3-49a9-95f2-80e1b6ed9dae",
   "metadata": {},
   "outputs": [
    {
     "name": "stdout",
     "output_type": "stream",
     "text": [
      "Data Saved to Postgresql successfully\n"
     ]
    }
   ],
   "source": [
    "selected_columns = [\n",
    "    \"order_id\",\n",
    "    \"delivery_time\",\n",
    "    \"accept_time\",\n",
    "    \"hour_of_day\",\n",
    "    \"day_of_week\",\n",
    "    \"month\",\n",
    "    \"delivery_eta_minutes\",\n",
    "    \"delivery_time_delay\",\n",
    "    \"delivery_distance_km\",\n",
    "    \"cluster\",\n",
    "    \"avg_delivery_time_minutes\",\n",
    "    \"delivery_order_count\",\n",
    "     \"city\",\n",
    "    \"city_order_count\",\n",
    "    \"is_delayed\",\n",
    "    \"speed_kmh\",\n",
    "    \"speed_status\",\n",
    "      # Ensure this is the correct column name for PCA features\n",
    "]\n",
    "\n",
    "# Create a new DataFrame with only the selected columns\n",
    "final_predictions = predictions.select(*selected_columns)\n",
    "\n",
    "# Define PostgreSQL connection details\n",
    "jdbc_url = \"jdbc:postgresql://localhost:5432/postgres\"\n",
    "properties = {\n",
    "    \"user\": \"postgres\",\n",
    "    \"password\": \"root\",\n",
    "    \"driver\": \"org.postgresql.Driver\"\n",
    "}\n",
    "\n",
    "final_predictions.write.jdbc(\n",
    "    url=jdbc_url,\n",
    "    table=\"feature_engg_delivery_data\",\n",
    "    mode=\"overwrite\",\n",
    "    properties=properties,\n",
    ")\n",
    "print(\"Data Saved to Postgresql successfully\")"
   ]
  },
  {
   "cell_type": "code",
   "execution_count": 22,
   "id": "d8f7b237-234e-4d30-99ea-795e457fb649",
   "metadata": {},
   "outputs": [
    {
     "name": "stdout",
     "output_type": "stream",
     "text": [
      "Data saved to csv successfully\n"
     ]
    }
   ],
   "source": [
    "# Save the cleaned DataFrame to csv\n",
    "output_path = r'C:\\Users\\Dusty\\Downloads\\Internship\\Last-Mile-Delivery-Delays-and-Route-Optimization\\data\\feature_engg_delivery_data.csv'\n",
    "final_predictions.coalesce(1).write.option(\"header\", \"true\").csv(output_path, mode=\"overwrite\")\n",
    "print(\"Data saved to csv successfully\")"
   ]
  }
 ],
 "metadata": {
  "kernelspec": {
   "display_name": "Python 3",
   "language": "python",
   "name": "python3"
  },
  "language_info": {
   "codemirror_mode": {
    "name": "ipython",
    "version": 3
   },
   "file_extension": ".py",
   "mimetype": "text/x-python",
   "name": "python",
   "nbconvert_exporter": "python",
   "pygments_lexer": "ipython3",
   "version": "3.10.13"
  }
 },
 "nbformat": 4,
 "nbformat_minor": 5
}
